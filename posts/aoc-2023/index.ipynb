{
  "cells": [
    {
      "cell_type": "raw",
      "metadata": {},
      "source": [
        "---\n",
        "title: \"Why Linear Algebra is Useful\"\n",
        "author: \"Ryan Heslin\"\n",
        "date: \"2023-09-11\"\n",
        "categories: [\"Miscellaneous\", \"Math\"]\n",
        "urlcolor: \"blue\"\n",
        "---"
      ],
      "id": "f59535b8"
    },
    {
      "cell_type": "markdown",
      "metadata": {},
      "source": [
        "It's [Advent of Code](https://adventofcode.com/) time again! \n",
        "\n",
        "Once again, thousands of programmers around the world are rearranging their lives \n",
        "to solve a series of Christmas-themed puzzles. As I write this, only one puzzle \n",
        "has been released, but this already promises to be an interesting year. \n",
        "This Day 1 puzzle was unexpectedly hard.\n",
        "\n",
        "Part 1 is a simple string manipulation problem. The input consists of a file where each \n",
        "line has lowercase letters and single digits. You just have to read the first \n",
        "and last integers on each line of a file, combine them, read the resulting integers, \n",
        "and sum them.\n"
      ],
      "id": "944f9ccb"
    },
    {
      "cell_type": "code",
      "metadata": {},
      "source": [
        "import re\n",
        "\n",
        "from utils.utils import split_lines\n",
        "\n",
        "raw = split_lines(\"inputs/day1.txt\")\n",
        "# No zeroes\n",
        "naturals = r\"[1-9]\"\n",
        "stripped = [re.sub(\"[a-z]+\", \"\", line) for line in raw]\n",
        "part1 = sum(int(line[0] + line[-1]) for line in stripped)\n",
        "print(part1)"
      ],
      "id": "54b9da84",
      "execution_count": null,
      "outputs": []
    },
    {
      "cell_type": "markdown",
      "metadata": {},
      "source": [
        "Part 2 reveals a nasty surprise. You no longer have to just search for digits, \n",
        "but _written numbers_. `one` and `1` now both mean `1`. I created an awkward regular \n",
        "expression to handle this, then confidently submitted my answer. Wrong. I \n",
        "checked my code on the provided test case, and it was correct. \n",
        "\n",
        "This happens to me several times each year, but rarely on day 1! I racked my mind \n",
        "for a pathological edge case that would break my code. Immediately, I thought \n",
        "of overlapping matches. By the rules, a string like `eightwo` should be parsed \n",
        "as `82`, but a conventional pattern would match `eight`, move on to `w`, and \n",
        "fail to match any more substrings from the string. I needed an overlapping pattern \n",
        "to get the correct answer. \n",
        "\n",
        "As with most problems, the answer to this one turned out to lie in [a purple StackOverflow link](https://stackoverflow.com/questions/5616822/how-to-use-regex-to-find-all-overlapping-matches). I tweaked my pattern, reran my code, and submitted a new, slightly higher answer. \n",
        "Correct!\n"
      ],
      "id": "407a3cc1"
    },
    {
      "cell_type": "code",
      "metadata": {},
      "source": [
        "nums = [\"one\", \"two\", \"three\", \"four\", \"five\", \"six\", \"seven\", \"eight\", \"nine\"]\n",
        "n = len(nums)\n",
        "parts = \"|\".join(nums + [naturals])\n",
        "pattern = f\"(?=({parts}))\"\n",
        "chars = list(map(str, range(1, 1 + n)))\n",
        "keys = dict(zip(nums, chars))\n",
        "\n",
        "matches = [re.findall(pattern, line) for line in raw]\n",
        "part2 = sum(\n",
        "    int(keys.get(r[0], r[0]) + keys.get(r[-1], r[-1])) if r else 0 for r in matches\n",
        ")\n",
        "print(part2)"
      ],
      "id": "5f4e1d1c",
      "execution_count": null,
      "outputs": []
    },
    {
      "cell_type": "markdown",
      "metadata": {},
      "source": [
        "All in all, it was a typical Day 7 or 8 puzzle, which made it a nasty surprise as \n",
        "a Day 1 puzzle. So Day 2 should be easy by comparison - right?"
      ],
      "id": "2e5cb9ca"
    }
  ],
  "metadata": {
    "kernelspec": {
      "name": "python3",
      "language": "python",
      "display_name": "Python 3 (ipykernel)"
    }
  },
  "nbformat": 4,
  "nbformat_minor": 5
}